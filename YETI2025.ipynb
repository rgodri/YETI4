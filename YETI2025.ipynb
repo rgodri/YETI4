{
 "cells": [
  {
   "cell_type": "markdown",
   "id": "e4d93051-9e4c-4b67-bc56-32e704da5ba9",
   "metadata": {},
   "source": [
    "On an night of observing the sky, Dr. Lindsay received a mysterious transmission that seemed like it might contain this year’s YETI challenge, but when he sent it over we couldn’t figure out how to open it! He thought it was going to be five images containing information about the task, but we only received a single JPEG file (see below) that doesn’t open. He said the transmission seemed to come in a stream of 16-bit chunks, and we know that JPEGs bytestreams often start with a header FF D8 FF E0, but I don’t see that in the file either. Try to figure out what’s in the messages so we can actually do YETI this year..."
   ]
  },
  {
   "cell_type": "code",
   "execution_count": 16,
   "id": "7c8b189f-5baf-44fb-baf4-8eb97cb03842",
   "metadata": {},
   "outputs": [],
   "source": [
    "# first step: open file; binary code\n",
    "\n",
    "rawjpg = open('transmission.jpg', 'rb')\n",
    "rawbin = rawjpg.read()\n",
    "rawjpg.close()"
   ]
  },
  {
   "cell_type": "code",
   "execution_count": 21,
   "id": "5b28b9ae-517c-4673-b447-748f8426e9e3",
   "metadata": {},
   "outputs": [],
   "source": [
    "# the header pattern is there, but every other byte is switched, so that's why we can't read the file as a jpg\n",
    "\n",
    "# second step: swap every other byte in file, save as new file\n",
    "\n",
    "swap = bytearray(len(rawbin))\n",
    "swap[0::2] = rawbin[1::2]\n",
    "swap[1::2] = rawbin[0::2]\n",
    "#print(swap)\n",
    "\n",
    "with open(\"swapped_transmission\", \"wb\") as binary_file:\n",
    "    binary_file.write(swap)"
   ]
  },
  {
   "cell_type": "code",
   "execution_count": 23,
   "id": "c8410da2-d0fe-42c5-b2a2-7713a8a3c73c",
   "metadata": {},
   "outputs": [
    {
     "ename": "FileNotFoundError",
     "evalue": "[Errno 2] No such file or directory: 'swapped_transmission.bin'",
     "output_type": "error",
     "traceback": [
      "\u001b[0;31m---------------------------------------------------------------------------\u001b[0m",
      "\u001b[0;31mFileNotFoundError\u001b[0m                         Traceback (most recent call last)",
      "\u001b[0;32m/var/folders/50/w484q9tx7p38g2q3t7_8tf8c0000gn/T/ipykernel_51002/1036550139.py\u001b[0m in \u001b[0;36m<module>\u001b[0;34m\u001b[0m\n\u001b[0;32m----> 1\u001b[0;31m \u001b[0mtest\u001b[0m \u001b[0;34m=\u001b[0m \u001b[0mopen\u001b[0m\u001b[0;34m(\u001b[0m\u001b[0;34m'swapped_transmission.bin'\u001b[0m\u001b[0;34m,\u001b[0m \u001b[0;34m'rb'\u001b[0m\u001b[0;34m)\u001b[0m\u001b[0;34m\u001b[0m\u001b[0;34m\u001b[0m\u001b[0m\n\u001b[0m\u001b[1;32m      2\u001b[0m \u001b[0mprint\u001b[0m\u001b[0;34m(\u001b[0m\u001b[0mtest\u001b[0m\u001b[0;34m)\u001b[0m\u001b[0;34m\u001b[0m\u001b[0;34m\u001b[0m\u001b[0m\n\u001b[1;32m      3\u001b[0m \u001b[0mtest\u001b[0m\u001b[0;34m.\u001b[0m\u001b[0mclose\u001b[0m\u001b[0;34m(\u001b[0m\u001b[0;34m)\u001b[0m\u001b[0;34m\u001b[0m\u001b[0;34m\u001b[0m\u001b[0m\n",
      "\u001b[0;31mFileNotFoundError\u001b[0m: [Errno 2] No such file or directory: 'swapped_transmission.bin'"
     ]
    }
   ],
   "source": [
    "test = open('swapped_transmission', 'rb')\n",
    "#print(test)\n",
    "test.close()"
   ]
  },
  {
   "cell_type": "code",
   "execution_count": 29,
   "id": "c301f391-ff02-43b9-a598-9c383439e2e2",
   "metadata": {},
   "outputs": [],
   "source": [
    "# so, i can get an image, but it's only one image rather than five\n",
    "\n",
    "# this is because the code stops reading after the first image"
   ]
  },
  {
   "cell_type": "code",
   "execution_count": 32,
   "id": "533f7ce6-65d4-43c8-9065-599a09002cd9",
   "metadata": {},
   "outputs": [],
   "source": [
    "swappedjpg = open('swapped_transmission.jpg', 'rb')\n",
    "swappedbin = swappedjpg.read()\n",
    "#print(swappedbin)\n",
    "swappedjpg.close()"
   ]
  },
  {
   "cell_type": "code",
   "execution_count": 39,
   "id": "518d630c-ee08-4a3a-95b9-1475c8a1d9b8",
   "metadata": {},
   "outputs": [
    {
     "data": {
      "text/plain": [
       "18"
      ]
     },
     "execution_count": 39,
     "metadata": {},
     "output_type": "execute_result"
    }
   ],
   "source": [
    "# step 3: there should be five images in the swapped_transmission file; split this file into five image files using grep with the header pattern\n",
    "\n",
    "s = b'hello world world \\xff\\xd8\\xff\\xe0'\n",
    "s.find(b'\\xff\\xd8\\xff\\xe0')"
   ]
  },
  {
   "cell_type": "code",
   "execution_count": 40,
   "id": "5af9ea3f-d0d1-401e-acd2-4f2bf069e88e",
   "metadata": {},
   "outputs": [
    {
     "data": {
      "text/plain": [
       "0"
      ]
     },
     "execution_count": 40,
     "metadata": {},
     "output_type": "execute_result"
    }
   ],
   "source": [
    "# find where the header for jpg 1 starts\n",
    "swappedbin.find(b'\\xff\\xd8\\xff\\xe0') #jpg 1"
   ]
  },
  {
   "cell_type": "code",
   "execution_count": 42,
   "id": "529ac78c-5d44-47b1-a078-170539b11251",
   "metadata": {},
   "outputs": [
    {
     "data": {
      "text/plain": [
       "28074"
      ]
     },
     "execution_count": 42,
     "metadata": {},
     "output_type": "execute_result"
    }
   ],
   "source": [
    "# first instance is at 0, find the next one\n",
    "swappedbin.find(b'\\xff\\xd8\\xff\\xe0',1) # jpg 2"
   ]
  },
  {
   "cell_type": "code",
   "execution_count": 44,
   "id": "e8609ab8-cde8-4a0e-ae8b-c3d537c5308f",
   "metadata": {},
   "outputs": [
    {
     "data": {
      "text/plain": [
       "87550"
      ]
     },
     "execution_count": 44,
     "metadata": {},
     "output_type": "execute_result"
    }
   ],
   "source": [
    "# second is at 28074, find the next one\n",
    "swappedbin.find(b'\\xff\\xd8\\xff\\xe0',28075) #jpg 3"
   ]
  },
  {
   "cell_type": "code",
   "execution_count": 46,
   "id": "79c4c07e-6a7a-444e-aa3b-3cad0acced54",
   "metadata": {},
   "outputs": [
    {
     "data": {
      "text/plain": [
       "133974"
      ]
     },
     "execution_count": 46,
     "metadata": {},
     "output_type": "execute_result"
    }
   ],
   "source": [
    "#third is at 87550, find the next one\n",
    "swappedbin.find(b'\\xff\\xd8\\xff\\xe0',87551) #jpg 4"
   ]
  },
  {
   "cell_type": "code",
   "execution_count": 48,
   "id": "eab42f20-b82d-4909-8a75-503be01ba985",
   "metadata": {},
   "outputs": [
    {
     "data": {
      "text/plain": [
       "194903"
      ]
     },
     "execution_count": 48,
     "metadata": {},
     "output_type": "execute_result"
    }
   ],
   "source": [
    "# fourth is at 133974, find the next one\n",
    "swappedbin.find(b'\\xff\\xd8\\xff\\xe0',133975) #jpg 5"
   ]
  },
  {
   "cell_type": "code",
   "execution_count": 49,
   "id": "d4d80a95-b89e-46dd-a697-e7c32b000cf1",
   "metadata": {},
   "outputs": [
    {
     "data": {
      "text/plain": [
       "-1"
      ]
     },
     "execution_count": 49,
     "metadata": {},
     "output_type": "execute_result"
    }
   ],
   "source": [
    "# fifth is at 194903, this should be the last one, but doing sanity check\n",
    "swappedbin.find(b'\\xff\\xd8\\xff\\xe0',194904)"
   ]
  },
  {
   "cell_type": "markdown",
   "id": "6fbf2def-7d7a-4786-9b18-33c08409f58a",
   "metadata": {},
   "source": [
    "JPG header 1: 0\n",
    "JPG header 2: 28074\n",
    "JPG header 3: 87550\n",
    "JPG header 4: 133974\n",
    "JPG header 5: 194903"
   ]
  },
  {
   "cell_type": "code",
   "execution_count": 50,
   "id": "ce6013af-702a-4874-80e8-c8a79ec487a9",
   "metadata": {},
   "outputs": [],
   "source": [
    "# separate for header jpg instance starting with their respective headers\n",
    "array1 = swappedbin[0:28074] # JPG 1\n",
    "array2 = swappedbin[28074:87550] # JPG 2\n",
    "array3 = swappedbin[87550:133974] # JPG 3\n",
    "array4 = swappedbin[133974:194903] # JPG 4\n",
    "array5 = swappedbin[194903:] # JPG 5\n",
    "\n",
    "# write each to a file\n",
    "with open('JPG1.jpg', 'wb') as file:\n",
    "    file.write(array1)\n",
    "with open('JPG2.jpg', 'wb') as file:\n",
    "    file.write(array2)\n",
    "with open('JPG3.jpg', 'wb') as file:\n",
    "    file.write(array3)\n",
    "with open('JPG4.jpg', 'wb') as file:\n",
    "    file.write(array4)\n",
    "with open('JPG5.jpg', 'wb') as file:\n",
    "    file.write(array5)"
   ]
  },
  {
   "cell_type": "code",
   "execution_count": 51,
   "id": "33b579f7-ae3c-42f9-896a-7cd4f8d95dc4",
   "metadata": {},
   "outputs": [],
   "source": [
    "# JPG 5 has the image of \"the quick brown fox jumps over the lazy dog\""
   ]
  },
  {
   "cell_type": "markdown",
   "id": "feec73bb-78eb-4316-ba05-aa785297689b",
   "metadata": {},
   "source": [
    "## CONGRATULATIONS ON CRACKING THE CODE\n",
    "\n",
    "## YOUR MAIN YETI TASK IS TO CREATE A CODE BASED TOOL THAT WILL BE USEFUL TO MEMBERS OF THE PHYSICS DEPARTMENT\n",
    "\n",
    "## THE TOOL CAN BE A WEBSITE A SCRIPT OR ANYTHING SO LONG AS IT INCORPORATES CODING\n",
    "\n",
    "## YOU WILL BE JUDGED ON THE USEFULNESS AND USABILITY OF THE TOOL ELEGANCE OF THE CODE AND HOW MUCH WE ARE DELIGHTED\n",
    "\n",
    "## THE QUICK BROWN FOX JUMPED OVER THE LAZY DOG\n",
    "\n",
    "#### (N and U share a symbol)\n",
    "#### (T and M share a symbol) \n",
    "#### (W and P share a symbol) \n",
    "#### (O and V share a symbol)"
   ]
  }
 ],
 "metadata": {
  "kernelspec": {
   "display_name": "Python 3 (ipykernel)",
   "language": "python",
   "name": "python3"
  },
  "language_info": {
   "codemirror_mode": {
    "name": "ipython",
    "version": 3
   },
   "file_extension": ".py",
   "mimetype": "text/x-python",
   "name": "python",
   "nbconvert_exporter": "python",
   "pygments_lexer": "ipython3",
   "version": "3.9.13"
  }
 },
 "nbformat": 4,
 "nbformat_minor": 5
}
